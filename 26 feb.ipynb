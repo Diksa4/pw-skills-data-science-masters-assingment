{
 "cells": [
  {
   "cell_type": "code",
   "execution_count": 1,
   "id": "6ee3fc5c-db54-4af1-a9db-e431043dcf24",
   "metadata": {},
   "outputs": [],
   "source": [
    "import numpy as np\n",
    "list_ = [1,2,3,4,5]\n",
    "array_list = np.array(object = list_)"
   ]
  },
  {
   "cell_type": "code",
   "execution_count": 2,
   "id": "cc5e4761-5938-48d9-b185-20afa7a33c5a",
   "metadata": {},
   "outputs": [
    {
     "data": {
      "text/plain": [
       "array([1, 2, 3, 4, 5])"
      ]
     },
     "execution_count": 2,
     "metadata": {},
     "output_type": "execute_result"
    }
   ],
   "source": [
    "array_list"
   ]
  },
  {
   "cell_type": "markdown",
   "id": "5e02dfa2-7d26-4b1a-967d-9fcb001e1d45",
   "metadata": {},
   "source": [
    "## Q1. Is there any difference in the data type of variables list_ and array_list? If there is then write a code to print the data types of both the variables."
   ]
  },
  {
   "cell_type": "markdown",
   "id": "18b3b20f-62cf-469d-9805-caf44341513b",
   "metadata": {},
   "source": [
    "## Ans:- variable_list:- The list is an important component used to collect multiple items in a single variable. It has the ability to collect items that usually consist of elements of multiple data types. These may include character logical values, numeric values, and more.\n",
    "## List cannot manage arithmetic operations.\n",
    "## It consists of elements that belong to the different data types.\n",
    "## When it comes to flexibility, the list is perfect as it allows easy modification of data.\n",
    "## It consumes a larger memory"
   ]
  },
  {
   "cell_type": "markdown",
   "id": "c24b793a-3fa6-4d45-ba68-433b699bb40f",
   "metadata": {},
   "source": [
    "## array_list:-An array is also a vital component that collects several items of same type. Arrays are also known as data structure. Python has several in-built data structures, such as arrays.\n",
    "## Array can manage arithmetic operations.\n",
    "## It consists of elements that belong to the same data type.\n",
    "## When it comes to flexibility, the array is not suitable as it does not allow easy modification of data.\n",
    "## It does not consume larger memory"
   ]
  },
  {
   "cell_type": "code",
   "execution_count": 5,
   "id": "42819815-ceff-4d86-93dd-88d496de7790",
   "metadata": {},
   "outputs": [],
   "source": [
    "variable_list=[1,2,3,4,'dikshant',7,5,'rajput']"
   ]
  },
  {
   "cell_type": "code",
   "execution_count": 6,
   "id": "f47cab65-3377-4938-a999-7d02e0598f07",
   "metadata": {},
   "outputs": [
    {
     "name": "stdout",
     "output_type": "stream",
     "text": [
      "[1, 2, 3, 4, 'dikshant', 7, 5, 'rajput']\n",
      "[1 2 3 4 5]\n"
     ]
    }
   ],
   "source": [
    "print(variable_list)\n",
    "print(array_list)"
   ]
  },
  {
   "cell_type": "code",
   "execution_count": 7,
   "id": "338ad0c2-fd19-44c1-a0e9-04fd1455a939",
   "metadata": {},
   "outputs": [],
   "source": [
    "a=[1,2,3,4]\n",
    "b=[4,5,6,7]"
   ]
  },
  {
   "cell_type": "code",
   "execution_count": 8,
   "id": "065650aa-2ccf-41f1-8f22-e9e5fdec163b",
   "metadata": {},
   "outputs": [
    {
     "data": {
      "text/plain": [
       "[1, 2, 3, 4, 4, 5, 6, 7]"
      ]
     },
     "execution_count": 8,
     "metadata": {},
     "output_type": "execute_result"
    }
   ],
   "source": [
    "a+b ## does not manage airthmatic operation"
   ]
  },
  {
   "cell_type": "code",
   "execution_count": 15,
   "id": "841bae6a-9413-4331-82fa-8b662a7dfc80",
   "metadata": {},
   "outputs": [
    {
     "name": "stdout",
     "output_type": "stream",
     "text": [
      "[1 2 3 4 5]\n",
      "[1 2 3 4 5]\n",
      "[ 2  4  6  8 10]\n"
     ]
    }
   ],
   "source": [
    "array_list2=np.array([1,2,3,4,5])\n",
    "print(array_list2)\n",
    "print(array_list)\n",
    "print(array_list+array_list2)"
   ]
  },
  {
   "cell_type": "code",
   "execution_count": 16,
   "id": "d99d14ad-aa59-479a-a6a8-228267f1079b",
   "metadata": {},
   "outputs": [],
   "source": [
    "array_list[0]=12"
   ]
  },
  {
   "cell_type": "code",
   "execution_count": 17,
   "id": "8f42134a-4438-44f4-adf9-3d23778d83d0",
   "metadata": {},
   "outputs": [
    {
     "data": {
      "text/plain": [
       "array([12,  2,  3,  4,  5])"
      ]
     },
     "execution_count": 17,
     "metadata": {},
     "output_type": "execute_result"
    }
   ],
   "source": [
    "array_list"
   ]
  },
  {
   "cell_type": "markdown",
   "id": "f9f454c2-ea3c-4f5d-85de-93aa23ff0bfe",
   "metadata": {},
   "source": [
    "## Q2. Write a code to print the data type of each and every element of both the variables list_ and array_list."
   ]
  },
  {
   "cell_type": "markdown",
   "id": "6da457ab-d717-4366-8017-c2945abbdce1",
   "metadata": {},
   "source": [
    "## Ans:-"
   ]
  },
  {
   "cell_type": "code",
   "execution_count": 37,
   "id": "8238f54c-7fae-4af4-b600-64c38fb5ead4",
   "metadata": {},
   "outputs": [
    {
     "data": {
      "text/plain": [
       "[1, 2, 3, 4, 5]"
      ]
     },
     "execution_count": 37,
     "metadata": {},
     "output_type": "execute_result"
    }
   ],
   "source": [
    "list_"
   ]
  },
  {
   "cell_type": "code",
   "execution_count": 38,
   "id": "ceca1c00-72df-4d21-a525-8ec59e434432",
   "metadata": {},
   "outputs": [
    {
     "name": "stdout",
     "output_type": "stream",
     "text": [
      "1 <class 'int'>\n",
      "2 <class 'int'>\n",
      "3 <class 'int'>\n",
      "4 <class 'int'>\n",
      "5 <class 'int'>\n"
     ]
    }
   ],
   "source": [
    "for i in list_:\n",
    "    print(i,type(i))"
   ]
  },
  {
   "cell_type": "code",
   "execution_count": 23,
   "id": "fefc6a72-8015-49a9-8372-fbe31b40c53e",
   "metadata": {},
   "outputs": [
    {
     "data": {
      "text/plain": [
       "array([12,  2,  3,  4,  5])"
      ]
     },
     "execution_count": 23,
     "metadata": {},
     "output_type": "execute_result"
    }
   ],
   "source": [
    "array_list"
   ]
  },
  {
   "cell_type": "code",
   "execution_count": 27,
   "id": "54c4fbe9-ae26-4351-a8ac-a70f015d2088",
   "metadata": {},
   "outputs": [
    {
     "name": "stdout",
     "output_type": "stream",
     "text": [
      "12 <class 'numpy.ndarray'>\n",
      "2 <class 'numpy.ndarray'>\n",
      "3 <class 'numpy.ndarray'>\n",
      "4 <class 'numpy.ndarray'>\n",
      "5 <class 'numpy.ndarray'>\n"
     ]
    }
   ],
   "source": [
    "for i in array_list:\n",
    "    print(i,type(array_list))"
   ]
  },
  {
   "cell_type": "markdown",
   "id": "ffb75008-2ed9-4dc4-b8d7-21d6d425b064",
   "metadata": {},
   "source": [
    "## Q3. Considering the following changes in the variable, array_list:\n",
    "## array_list = np.array(object = list_, dtype = int)\n",
    "## Will there be any difference in the data type of the elements present in both the variables, list_ and arra_list? If so then print the data types of each and every element present in both the variables list_ and array_list.\n"
   ]
  },
  {
   "cell_type": "code",
   "execution_count": 28,
   "id": "0ddb613d-03be-4e2d-aebd-5951207010b8",
   "metadata": {},
   "outputs": [],
   "source": [
    "array_list = np.array(object = list_ ,dtype=int)"
   ]
  },
  {
   "cell_type": "code",
   "execution_count": 32,
   "id": "e5c57c72-1911-4342-94c1-d500a2e383b2",
   "metadata": {},
   "outputs": [
    {
     "data": {
      "text/plain": [
       "array([1, 2, 3, 4, 5])"
      ]
     },
     "execution_count": 32,
     "metadata": {},
     "output_type": "execute_result"
    }
   ],
   "source": [
    "array_list"
   ]
  },
  {
   "cell_type": "code",
   "execution_count": 34,
   "id": "c8a3b241-2cc2-4f50-ab15-c9a1c921dd32",
   "metadata": {},
   "outputs": [
    {
     "name": "stdout",
     "output_type": "stream",
     "text": [
      "1 <class 'numpy.int64'>\n",
      "2 <class 'numpy.int64'>\n",
      "3 <class 'numpy.int64'>\n",
      "4 <class 'numpy.int64'>\n",
      "5 <class 'numpy.int64'>\n"
     ]
    }
   ],
   "source": [
    "for i in array_list:\n",
    "    print(i,type(i))"
   ]
  },
  {
   "cell_type": "code",
   "execution_count": 35,
   "id": "aa0f6316-71fc-4d1f-8ad5-66d25b146d84",
   "metadata": {},
   "outputs": [
    {
     "data": {
      "text/plain": [
       "[1, 2, 3, 4, 5]"
      ]
     },
     "execution_count": 35,
     "metadata": {},
     "output_type": "execute_result"
    }
   ],
   "source": [
    "list_"
   ]
  },
  {
   "cell_type": "code",
   "execution_count": 36,
   "id": "965cb3b2-56e0-472e-914f-33145d9765de",
   "metadata": {},
   "outputs": [
    {
     "name": "stdout",
     "output_type": "stream",
     "text": [
      "1 <class 'int'>\n",
      "2 <class 'int'>\n",
      "3 <class 'int'>\n",
      "4 <class 'int'>\n",
      "5 <class 'int'>\n"
     ]
    }
   ],
   "source": [
    "for i in list_:\n",
    "    print(i,type(i))"
   ]
  },
  {
   "cell_type": "markdown",
   "id": "41697e01-8923-4345-a3fc-c2e39353a469",
   "metadata": {},
   "source": [
    "##  no difference in data type between the elements of array_list and list_"
   ]
  },
  {
   "cell_type": "markdown",
   "id": "8ec99914-e770-437b-b780-0f8ee16dad7a",
   "metadata": {},
   "source": [
    "## consider the following:- "
   ]
  },
  {
   "cell_type": "code",
   "execution_count": 40,
   "id": "f3e1329b-a37c-4dc6-93b0-cb1dc86c41d3",
   "metadata": {},
   "outputs": [],
   "source": [
    "import numpy as np\n",
    "num_list = [ [ 1 , 2 , 3 ] , [ 4 , 5 , 6 ] ]\n",
    "num_array = np.array(object = num_list)"
   ]
  },
  {
   "cell_type": "code",
   "execution_count": 41,
   "id": "ece4cd98-4ecc-4c7c-a313-d1d30392c15d",
   "metadata": {},
   "outputs": [
    {
     "data": {
      "text/plain": [
       "array([[1, 2, 3],\n",
       "       [4, 5, 6]])"
      ]
     },
     "execution_count": 41,
     "metadata": {},
     "output_type": "execute_result"
    }
   ],
   "source": [
    "num_array"
   ]
  },
  {
   "cell_type": "markdown",
   "id": "4ec8ae61-8699-4bba-a672-81f4c3208081",
   "metadata": {},
   "source": [
    "## Q4. Write a code to find the following characteristics of variable, num_array:\n",
    "## (i) shape\n",
    "## (ii) size"
   ]
  },
  {
   "cell_type": "code",
   "execution_count": 42,
   "id": "13e8833d-27ed-43fe-8b9c-26f707fee052",
   "metadata": {},
   "outputs": [
    {
     "data": {
      "text/plain": [
       "(2, 3)"
      ]
     },
     "execution_count": 42,
     "metadata": {},
     "output_type": "execute_result"
    }
   ],
   "source": [
    "num_array.shape"
   ]
  },
  {
   "cell_type": "code",
   "execution_count": 43,
   "id": "42af67c4-5ee5-4f58-a7b2-e56964bc27f0",
   "metadata": {},
   "outputs": [
    {
     "data": {
      "text/plain": [
       "6"
      ]
     },
     "execution_count": 43,
     "metadata": {},
     "output_type": "execute_result"
    }
   ],
   "source": [
    "num_array.size"
   ]
  },
  {
   "cell_type": "markdown",
   "id": "5c8adbeb-20f4-4e9c-aa80-05297e9d2ed1",
   "metadata": {},
   "source": [
    "## Q5. Write a code to create numpy array of 3*3 matrix containing zeros only, using a numpy array creation function.\n",
    "[Hint: The size of the array will be 9 and the shape will be (3,3).]"
   ]
  },
  {
   "cell_type": "code",
   "execution_count": 45,
   "id": "89ccbeca-0d20-4e34-b80c-726069896767",
   "metadata": {},
   "outputs": [],
   "source": [
    "array=np.zeros([3,3])"
   ]
  },
  {
   "cell_type": "code",
   "execution_count": 46,
   "id": "e02fa152-cc04-4a2e-8036-fc42b992f780",
   "metadata": {},
   "outputs": [
    {
     "data": {
      "text/plain": [
       "array([[0., 0., 0.],\n",
       "       [0., 0., 0.],\n",
       "       [0., 0., 0.]])"
      ]
     },
     "execution_count": 46,
     "metadata": {},
     "output_type": "execute_result"
    }
   ],
   "source": [
    "array"
   ]
  },
  {
   "cell_type": "code",
   "execution_count": 47,
   "id": "c0c5c587-3f03-4165-8e8b-858f513f3005",
   "metadata": {},
   "outputs": [
    {
     "data": {
      "text/plain": [
       "9"
      ]
     },
     "execution_count": 47,
     "metadata": {},
     "output_type": "execute_result"
    }
   ],
   "source": [
    "array.size"
   ]
  },
  {
   "cell_type": "code",
   "execution_count": 48,
   "id": "582e1872-13b6-4b49-a711-b9fa3d5ff682",
   "metadata": {},
   "outputs": [
    {
     "data": {
      "text/plain": [
       "(3, 3)"
      ]
     },
     "execution_count": 48,
     "metadata": {},
     "output_type": "execute_result"
    }
   ],
   "source": [
    "array.shape"
   ]
  },
  {
   "cell_type": "markdown",
   "id": "afa6cca5-1721-45d2-a530-6c692c6488a9",
   "metadata": {},
   "source": [
    "## Q6. Create an identity matrix of shape (5,5) using numpy functions?\n",
    "[Hint: An identity matrix is a matrix containing 1 diagonally and other elements will be 0.]"
   ]
  },
  {
   "cell_type": "code",
   "execution_count": 52,
   "id": "c947aa2c-76b7-4707-ac0c-b88b7d66132a",
   "metadata": {},
   "outputs": [],
   "source": [
    "array2=np.eye(5,5)"
   ]
  },
  {
   "cell_type": "code",
   "execution_count": 53,
   "id": "6391fb20-5f34-4e79-a553-fc40dc702fe6",
   "metadata": {},
   "outputs": [
    {
     "data": {
      "text/plain": [
       "array([[1., 0., 0., 0., 0.],\n",
       "       [0., 1., 0., 0., 0.],\n",
       "       [0., 0., 1., 0., 0.],\n",
       "       [0., 0., 0., 1., 0.],\n",
       "       [0., 0., 0., 0., 1.]])"
      ]
     },
     "execution_count": 53,
     "metadata": {},
     "output_type": "execute_result"
    }
   ],
   "source": [
    "array2"
   ]
  },
  {
   "cell_type": "code",
   "execution_count": 54,
   "id": "2b69cdf5-e117-463c-b447-5406c0f3e8ba",
   "metadata": {},
   "outputs": [
    {
     "data": {
      "text/plain": [
       "(5, 5)"
      ]
     },
     "execution_count": 54,
     "metadata": {},
     "output_type": "execute_result"
    }
   ],
   "source": [
    "array2.shape"
   ]
  },
  {
   "cell_type": "code",
   "execution_count": 55,
   "id": "2805046a-56ca-4744-a548-7d990ba9fc4a",
   "metadata": {},
   "outputs": [
    {
     "data": {
      "text/plain": [
       "25"
      ]
     },
     "execution_count": 55,
     "metadata": {},
     "output_type": "execute_result"
    }
   ],
   "source": [
    "array2.size"
   ]
  },
  {
   "cell_type": "code",
   "execution_count": null,
   "id": "d29c7a74-3545-407b-b430-c50bba87fc13",
   "metadata": {},
   "outputs": [],
   "source": []
  }
 ],
 "metadata": {
  "kernelspec": {
   "display_name": "Python 3 (ipykernel)",
   "language": "python",
   "name": "python3"
  },
  "language_info": {
   "codemirror_mode": {
    "name": "ipython",
    "version": 3
   },
   "file_extension": ".py",
   "mimetype": "text/x-python",
   "name": "python",
   "nbconvert_exporter": "python",
   "pygments_lexer": "ipython3",
   "version": "3.10.8"
  }
 },
 "nbformat": 4,
 "nbformat_minor": 5
}
