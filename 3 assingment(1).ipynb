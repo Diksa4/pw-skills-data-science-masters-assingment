{
 "cells": [
  {
   "cell_type": "markdown",
   "id": "97bd854d-8c82-4b8a-be90-ff76f3fcf3ff",
   "metadata": {},
   "source": [
    "## assingment 3"
   ]
  },
  {
   "cell_type": "markdown",
   "id": "c6924095-4ffd-4244-ad76-1013c797ffbd",
   "metadata": {},
   "source": [
    "## Q1. What are the characteristics of the tuples? Is tuple immutable?"
   ]
  },
  {
   "cell_type": "markdown",
   "id": "29826de7-ee3f-4347-b6f5-c165a3633906",
   "metadata": {},
   "source": [
    "# Ans:-\n",
    "# Tuple:-\n",
    "## Tuple is a ordered collection of items.and tuple are used to store multiple items in a single variable.\n",
    "## Tuple is one of four built-in data types in python used to store collections of data,the other three are list,set and dictionary,all with different qualities and usage.\n",
    "## a tuple is a collection whic is ordered and unchangeable.\n",
    "## Tuples are written with round brackets.\n",
    " \n",
    " # characteristics:-\n",
    " ## 1-Tuple is ordered.\n",
    " ## 2-Tuple is unchangeable.\n",
    " ## 3-Tuple allows duplicates elements.\n",
    " ## 4-Tuple follows Immutability concepts where it is not going to allow to change any element at a perticular index.\n",
    " \n",
    " ## yes tuple is immutable because it does not allow to any changes on particular indexes. "
   ]
  },
  {
   "cell_type": "code",
   "execution_count": 1,
   "id": "f9887107-3454-45aa-813a-ee04d2229739",
   "metadata": {},
   "outputs": [],
   "source": [
    "a=(1,2,3,4,5)"
   ]
  },
  {
   "cell_type": "code",
   "execution_count": 2,
   "id": "1ec9da9c-c152-4741-8ed6-62e4e0391cb6",
   "metadata": {},
   "outputs": [
    {
     "data": {
      "text/plain": [
       "tuple"
      ]
     },
     "execution_count": 2,
     "metadata": {},
     "output_type": "execute_result"
    }
   ],
   "source": [
    "type(a)"
   ]
  },
  {
   "cell_type": "code",
   "execution_count": 3,
   "id": "e6eb43a9-89aa-427d-8520-795f8bc57ab8",
   "metadata": {},
   "outputs": [
    {
     "data": {
      "text/plain": [
       "(1, 2, 3, 4, 5)"
      ]
     },
     "execution_count": 3,
     "metadata": {},
     "output_type": "execute_result"
    }
   ],
   "source": [
    "a"
   ]
  },
  {
   "cell_type": "markdown",
   "id": "406bedf9-370c-40a8-83ff-218347794099",
   "metadata": {},
   "source": [
    "## Q2. What are the two tuple methods in python? Give an example of each method. Give a reason why tuples have only two in-built methods as compared to Lists."
   ]
  },
  {
   "cell_type": "markdown",
   "id": "8a8a4d4a-7248-4b0c-8fac-e3dd53b6e790",
   "metadata": {},
   "source": [
    "# Ans:-\n",
    "## there are only two methds for tuple in python.\n",
    "## 1. count:- count method is used to count that how many number of times an element is in a tuple."
   ]
  },
  {
   "cell_type": "code",
   "execution_count": 4,
   "id": "b6948af4-56dd-4d35-a1f1-9272fa51b6e5",
   "metadata": {},
   "outputs": [],
   "source": [
    "a=(1,2,3,4,5,6,2,1,9,3,4)"
   ]
  },
  {
   "cell_type": "code",
   "execution_count": 5,
   "id": "bd39a887-dd46-4967-86c2-7ecf2bd247d6",
   "metadata": {},
   "outputs": [
    {
     "data": {
      "text/plain": [
       "2"
      ]
     },
     "execution_count": 5,
     "metadata": {},
     "output_type": "execute_result"
    }
   ],
   "source": [
    "a.count(3)"
   ]
  },
  {
   "cell_type": "code",
   "execution_count": 6,
   "id": "23126d23-0e46-48c9-a8ca-c22d9bc3d0ea",
   "metadata": {},
   "outputs": [
    {
     "data": {
      "text/plain": [
       "2"
      ]
     },
     "execution_count": 6,
     "metadata": {},
     "output_type": "execute_result"
    }
   ],
   "source": [
    "a.count(2)"
   ]
  },
  {
   "cell_type": "markdown",
   "id": "54aa51f2-1150-454a-86f0-d1a6eecd6f0b",
   "metadata": {},
   "source": [
    "## 2. index:- index method is used to find the index position of an element ."
   ]
  },
  {
   "cell_type": "code",
   "execution_count": 7,
   "id": "3b029775-400a-474e-9388-168a0dd77724",
   "metadata": {},
   "outputs": [
    {
     "data": {
      "text/plain": [
       "3"
      ]
     },
     "execution_count": 7,
     "metadata": {},
     "output_type": "execute_result"
    }
   ],
   "source": [
    "a.index(4) # where 4 is an item."
   ]
  },
  {
   "cell_type": "code",
   "execution_count": 8,
   "id": "81a2a1f3-d8ba-4c0b-b213-90d89733c412",
   "metadata": {},
   "outputs": [
    {
     "data": {
      "text/plain": [
       "4"
      ]
     },
     "execution_count": 8,
     "metadata": {},
     "output_type": "execute_result"
    }
   ],
   "source": [
    "a[3]# where 3 is an index.\n"
   ]
  },
  {
   "cell_type": "markdown",
   "id": "51e17d6a-2324-4fd5-aeb7-3cfe25ebc894",
   "metadata": {},
   "source": [
    "##  Tuples have only two in-built function because tuple are immutable,means that we can not change their contents on a particilar index after they are created.the length of tuple is also fixed."
   ]
  },
  {
   "cell_type": "markdown",
   "id": "259f1596-c096-4f00-b980-4be9b0552033",
   "metadata": {},
   "source": [
    "## Q3. Which collection datatypes in python do not allow duplicate items? Write a code using a set to remove duplicates from the given list.\n",
    "## List = [1, 1, 1, 2, 1, 3, 1, 4, 2, 1, 2, 2, 2, 3, 2, 4, 3, 1, 3, 2, 3, 3, 3, 4, 4, 1, 4, 2, 4, 3, 4, 4]"
   ]
  },
  {
   "cell_type": "markdown",
   "id": "3f7e9eb7-97dd-42df-95f9-5a3227ac14eb",
   "metadata": {},
   "source": [
    "## Ans:-\n",
    "## set and dictionary datatypes does not allow duplicate items.  "
   ]
  },
  {
   "cell_type": "code",
   "execution_count": 13,
   "id": "20417863-464c-4ca6-83c2-e396c4047bc4",
   "metadata": {},
   "outputs": [
    {
     "name": "stdout",
     "output_type": "stream",
     "text": [
      "[1, 2, 3, 4]\n"
     ]
    }
   ],
   "source": [
    "List = [1, 1, 1, 2, 1, 3, 1, 4, 2, 1, 2, 2, 2, 3, 2, 4, 3, 1, 3, 2, 3, 3, 3, 4, 4, 1, 4, 2, 4, 3, 4, 4]\n",
    "a=set(List)\n",
    "b=list(a)\n",
    "print(b)"
   ]
  },
  {
   "cell_type": "markdown",
   "id": "b825e6e5-9dbb-4b99-b87e-4bd73f63264d",
   "metadata": {},
   "source": [
    "## Q4. Explain the difference between the union() and update() methods for a set. Give an example of each method."
   ]
  },
  {
   "cell_type": "markdown",
   "id": "5e9611ad-2c93-4b75-a0b5-6f512c7e485c",
   "metadata": {},
   "source": [
    "## Ans:-\n",
    "## union:-Gives new set with elements from both a and b sets."
   ]
  },
  {
   "cell_type": "code",
   "execution_count": 1,
   "id": "49d2b2be-3245-4618-a89f-816167246328",
   "metadata": {},
   "outputs": [
    {
     "data": {
      "text/plain": [
       "{1, 2, 3, 4, 5, 6, 7, 8, 9, 10}"
      ]
     },
     "execution_count": 1,
     "metadata": {},
     "output_type": "execute_result"
    }
   ],
   "source": [
    "a={1,2,3,4,5}\n",
    "b={6,7,8,10,9}\n",
    "a.union(b)"
   ]
  },
  {
   "cell_type": "markdown",
   "id": "c8215b22-5650-4d2a-ac26-c3f0448f9b63",
   "metadata": {},
   "source": [
    "## update:- return set a with elements added from b."
   ]
  },
  {
   "cell_type": "code",
   "execution_count": 3,
   "id": "1129107d-1895-4799-8d82-6eebe1c3b9b5",
   "metadata": {},
   "outputs": [],
   "source": [
    "a={1,2,3,4,5}\n",
    "b={6,7,8,10,9}\n",
    "a.update(b)"
   ]
  },
  {
   "cell_type": "code",
   "execution_count": 4,
   "id": "82a6123d-4006-46f9-8dfa-743ddf85f852",
   "metadata": {},
   "outputs": [
    {
     "data": {
      "text/plain": [
       "{1, 2, 3, 4, 5, 6, 7, 8, 9, 10}"
      ]
     },
     "execution_count": 4,
     "metadata": {},
     "output_type": "execute_result"
    }
   ],
   "source": [
    "a"
   ]
  },
  {
   "cell_type": "markdown",
   "id": "4463618d-0d82-45f7-b153-7d3c4cfe52cb",
   "metadata": {},
   "source": [
    "## Q5. What is a dictionary? Give an example. Also, state whether a dictionary is ordered or unordered."
   ]
  },
  {
   "cell_type": "markdown",
   "id": "c32b2aa0-13af-4138-9937-3abf5fe06bb3",
   "metadata": {},
   "source": [
    "## Ans:- A dictionary is a collection which is ordered (as of python version 3.7,dictionaries are ordered. in python 3.6 and earlier , dictionaries are unordered) changeable and do not allow duplicates.\n",
    "## dictionaries are used to store data values in key:value pairs.\n",
    "## dictionaries are written with curly brackets,and have keys and values.\n",
    "## dictionary items ordered ,changeable and does not allow duplicates.\n",
    "## dictionary items are presented in key:value pairs,and can be refferred by using the key name. "
   ]
  },
  {
   "cell_type": "code",
   "execution_count": 13,
   "id": "0fcdbc59-2e18-430b-9033-1c663787661d",
   "metadata": {},
   "outputs": [
    {
     "name": "stdout",
     "output_type": "stream",
     "text": [
      "{'A': 1, 'B': 2, 'c': 3, 'D': 4}\n"
     ]
    }
   ],
   "source": [
    "dict1={\"A\":1,\"B\":2,\"c\":3,\"D\":4}\n",
    "print(dict1)"
   ]
  },
  {
   "cell_type": "code",
   "execution_count": 20,
   "id": "ad36f359-55a0-4db6-9b7d-4e1f0d63a6a5",
   "metadata": {},
   "outputs": [
    {
     "name": "stdout",
     "output_type": "stream",
     "text": [
      "('A', 1)\n",
      "('B', 2)\n",
      "('c', 3)\n",
      "('D', 4)\n"
     ]
    }
   ],
   "source": [
    "for i in dict1.items():\n",
    "    print(i)"
   ]
  },
  {
   "cell_type": "code",
   "execution_count": 16,
   "id": "5cfa391f-b8b1-49b1-bdc6-685a3b2a6f29",
   "metadata": {},
   "outputs": [
    {
     "name": "stdout",
     "output_type": "stream",
     "text": [
      "1\n",
      "2\n",
      "3\n",
      "4\n"
     ]
    }
   ],
   "source": [
    "for i in dict1.values():\n",
    "    print(i)"
   ]
  },
  {
   "cell_type": "code",
   "execution_count": 17,
   "id": "3f205f94-0e92-41cd-b699-c402f7e67220",
   "metadata": {},
   "outputs": [
    {
     "name": "stdout",
     "output_type": "stream",
     "text": [
      "A\n",
      "B\n",
      "c\n",
      "D\n"
     ]
    }
   ],
   "source": [
    "for i in dict1.keys():\n",
    "    print(i)"
   ]
  },
  {
   "cell_type": "markdown",
   "id": "43c6ef6d-1e67-4cf6-8514-d062c9e687fc",
   "metadata": {},
   "source": [
    "## Q6. Can we create a nested dictionary? If so, please give an example by creating a simple one-level nested dictionary."
   ]
  },
  {
   "cell_type": "markdown",
   "id": "901878c1-dc9f-4619-8065-1e4532a2e965",
   "metadata": {},
   "source": [
    "##  Ans:- yes we can create a nested dictionary ."
   ]
  },
  {
   "cell_type": "code",
   "execution_count": 7,
   "id": "47c81baa-8854-4276-a5ce-c8eb5f74d491",
   "metadata": {},
   "outputs": [],
   "source": [
    "# one level nested dictionary.\n",
    "a={\"key\":{\"name\":\"dikshant\",\"email_id\":\"dikshantk277@gmail.com\"}}"
   ]
  },
  {
   "cell_type": "code",
   "execution_count": 8,
   "id": "798898d5-9659-4b2f-a338-9b02323a92c0",
   "metadata": {},
   "outputs": [
    {
     "data": {
      "text/plain": [
       "{'key': {'name': 'dikshant', 'email_id': 'dikshantk277@gmail.com'}}"
      ]
     },
     "execution_count": 8,
     "metadata": {},
     "output_type": "execute_result"
    }
   ],
   "source": [
    "a"
   ]
  },
  {
   "cell_type": "code",
   "execution_count": 9,
   "id": "c0753204-d0a3-45d5-8107-845a33e3ba6c",
   "metadata": {},
   "outputs": [
    {
     "data": {
      "text/plain": [
       "'dikshant'"
      ]
     },
     "execution_count": 9,
     "metadata": {},
     "output_type": "execute_result"
    }
   ],
   "source": [
    "a[\"key\"][\"name\"]"
   ]
  },
  {
   "cell_type": "markdown",
   "id": "80f7a0db-e624-4223-a612-3ad539313d43",
   "metadata": {},
   "source": [
    "## Q7. Using setdefault() method, create key named topics in the given dictionary and also add the value of the key as this list ['Python', 'Machine Learning’, 'Deep Learning']\n",
    "## dict1 = {'language' : 'Python', 'course': 'Data Science Masters'}"
   ]
  },
  {
   "cell_type": "markdown",
   "id": "c3425622-bb37-464b-a493-4b0ea90308c2",
   "metadata": {},
   "source": [
    "## Ans:-"
   ]
  },
  {
   "cell_type": "code",
   "execution_count": 2,
   "id": "34534ef5-385f-4d54-98dd-254a04fc146b",
   "metadata": {},
   "outputs": [],
   "source": [
    "dict1 = {'language' : 'Python', 'course': 'Data Science Masters'}"
   ]
  },
  {
   "cell_type": "code",
   "execution_count": 3,
   "id": "58ae45b6-50b1-40a6-ae34-f4717e94ab20",
   "metadata": {},
   "outputs": [
    {
     "ename": "KeyError",
     "evalue": "'topics'",
     "output_type": "error",
     "traceback": [
      "\u001b[0;31m---------------------------------------------------------------------------\u001b[0m",
      "\u001b[0;31mKeyError\u001b[0m                                  Traceback (most recent call last)",
      "Cell \u001b[0;32mIn[3], line 1\u001b[0m\n\u001b[0;32m----> 1\u001b[0m \u001b[43mdict1\u001b[49m\u001b[43m[\u001b[49m\u001b[38;5;124;43m\"\u001b[39;49m\u001b[38;5;124;43mtopics\u001b[39;49m\u001b[38;5;124;43m\"\u001b[39;49m\u001b[43m]\u001b[49m\n",
      "\u001b[0;31mKeyError\u001b[0m: 'topics'"
     ]
    }
   ],
   "source": [
    "dict1[\"topics\"]"
   ]
  },
  {
   "cell_type": "code",
   "execution_count": 4,
   "id": "2a3b9907-98e1-42c4-a4d2-a8c5a966036d",
   "metadata": {},
   "outputs": [
    {
     "data": {
      "text/plain": [
       "['python', 'machine learning', 'deep learning']"
      ]
     },
     "execution_count": 4,
     "metadata": {},
     "output_type": "execute_result"
    }
   ],
   "source": [
    "dict1.get(\"topics\",['python','machine learning','deep learning'])"
   ]
  },
  {
   "cell_type": "code",
   "execution_count": 5,
   "id": "a7bd8aa7-b35e-4aed-a7ab-99f21a0b5c5d",
   "metadata": {},
   "outputs": [
    {
     "data": {
      "text/plain": [
       "{'language': 'Python', 'course': 'Data Science Masters'}"
      ]
     },
     "execution_count": 5,
     "metadata": {},
     "output_type": "execute_result"
    }
   ],
   "source": [
    "dict1"
   ]
  },
  {
   "cell_type": "code",
   "execution_count": 6,
   "id": "8624d125-4486-447c-8169-741b6b7fbbec",
   "metadata": {},
   "outputs": [
    {
     "data": {
      "text/plain": [
       "['python', 'machine learning', 'deep learning']"
      ]
     },
     "execution_count": 6,
     "metadata": {},
     "output_type": "execute_result"
    }
   ],
   "source": [
    "dict1.setdefault(\"topics\",['python','machine learning','deep learning'])"
   ]
  },
  {
   "cell_type": "code",
   "execution_count": 7,
   "id": "7856bbcc-0414-46ba-9759-4fa878d20c08",
   "metadata": {},
   "outputs": [
    {
     "data": {
      "text/plain": [
       "{'language': 'Python',\n",
       " 'course': 'Data Science Masters',\n",
       " 'topics': ['python', 'machine learning', 'deep learning']}"
      ]
     },
     "execution_count": 7,
     "metadata": {},
     "output_type": "execute_result"
    }
   ],
   "source": [
    "dict1"
   ]
  },
  {
   "cell_type": "markdown",
   "id": "81947a12-0781-42a7-9a34-8e96a543c113",
   "metadata": {},
   "source": [
    "## Q8. What are the three view objects in dictionaries? Use the three in-built methods in python to display these three view objects for the given dictionary.\n",
    "## dict1 = {'Sport': 'Cricket' , 'Teams': ['India', 'Australia', 'England', 'South Africa', 'Sri Lanka', 'New Zealand']}"
   ]
  },
  {
   "cell_type": "markdown",
   "id": "f7aeed85-0ab8-45bc-87c8-a353fb23f96b",
   "metadata": {},
   "source": [
    "## Ans:-"
   ]
  },
  {
   "cell_type": "markdown",
   "id": "aec0ca1d-0808-423d-9b75-705d40e66131",
   "metadata": {},
   "source": [
    "## Dictionary:- a dictionary is a data structure that is used for storing a grioup of objects. a dictionary is having set of keys and every kay has a single allocated value.\n",
    "## in python dictionaries ,some of methods return view objects.this view objects are dyamic view objects,meaning that when we made some changes in the dictionary then the view reflects these changes.\n",
    "# The three main view objects of dictionary in python are\n",
    "## * Keys view object.\n",
    "## * Values view object.\n",
    "## * Items view object.\n",
    "## that provide a none constant view of the dictionary's entries."
   ]
  },
  {
   "cell_type": "markdown",
   "id": "34324473-7003-4f06-8c79-750c440f63a5",
   "metadata": {},
   "source": [
    "# Keys view objects:-\n",
    "## The keys view object represents all the keys of a dictionary.\n",
    "## if you print the keys view object ,it displays the new list of all the keys in the dictionay in order of insertion."
   ]
  },
  {
   "cell_type": "code",
   "execution_count": 5,
   "id": "5953a340-99b7-4be1-88d8-3fd5d054bd0e",
   "metadata": {},
   "outputs": [
    {
     "data": {
      "text/plain": [
       "dict_keys(['Sport', 'Teams'])"
      ]
     },
     "execution_count": 5,
     "metadata": {},
     "output_type": "execute_result"
    }
   ],
   "source": [
    "dict1 = {'Sport': 'Cricket' , 'Teams': ['India', 'Australia', 'England', 'South Africa', 'Sri Lanka', 'New Zealand']}\n",
    "dict1.keys()"
   ]
  },
  {
   "cell_type": "markdown",
   "id": "44bed8c5-919f-4cae-95e5-8c62a002c27f",
   "metadata": {},
   "source": [
    "# Values view objects:-\n",
    "## The values view object represents all the values of a dictionary.\n",
    "## if you print the values view object,it displays the new list of all the values in the dictionary in order of insertion."
   ]
  },
  {
   "cell_type": "code",
   "execution_count": 11,
   "id": "28e42b0b-db29-42c2-882f-43dd1c71d460",
   "metadata": {},
   "outputs": [
    {
     "data": {
      "text/plain": [
       "dict_values(['Cricket', ['India', 'Australia', 'England', 'South Africa', 'Sri Lanka', 'New Zealand']])"
      ]
     },
     "execution_count": 11,
     "metadata": {},
     "output_type": "execute_result"
    }
   ],
   "source": [
    "dict1 = {'Sport': 'Cricket' , 'Teams': ['India', 'Australia', 'England', 'South Africa', 'Sri Lanka', 'New Zealand']}\n",
    "dict1.values()"
   ]
  },
  {
   "cell_type": "markdown",
   "id": "8d3f83ed-8ed6-486e-a028-e8bedb89d418",
   "metadata": {},
   "source": [
    "# Items view objects:-\n",
    "## The items view object represents all the items of a dictionary.\n",
    "## if you print the items view object,it displays the new list of all the items as key-value pairs in the dictionary in order of insertion."
   ]
  },
  {
   "cell_type": "code",
   "execution_count": 12,
   "id": "f8742231-f52f-412f-93f7-ce6030d03928",
   "metadata": {},
   "outputs": [
    {
     "data": {
      "text/plain": [
       "dict_items([('Sport', 'Cricket'), ('Teams', ['India', 'Australia', 'England', 'South Africa', 'Sri Lanka', 'New Zealand'])])"
      ]
     },
     "execution_count": 12,
     "metadata": {},
     "output_type": "execute_result"
    }
   ],
   "source": [
    "ict1 = {'Sport': 'Cricket' , 'Teams': ['India', 'Australia', 'England', 'South Africa', 'Sri Lanka', 'New Zealand']}\n",
    "dict1.items()"
   ]
  }
 ],
 "metadata": {
  "kernelspec": {
   "display_name": "Python 3 (ipykernel)",
   "language": "python",
   "name": "python3"
  },
  "language_info": {
   "codemirror_mode": {
    "name": "ipython",
    "version": 3
   },
   "file_extension": ".py",
   "mimetype": "text/x-python",
   "name": "python",
   "nbconvert_exporter": "python",
   "pygments_lexer": "ipython3",
   "version": "3.10.8"
  }
 },
 "nbformat": 4,
 "nbformat_minor": 5
}
