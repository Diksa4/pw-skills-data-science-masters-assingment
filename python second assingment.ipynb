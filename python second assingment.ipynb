{
 "cells": [
  {
   "cell_type": "markdown",
   "id": "2c776cab-2ed3-4915-9a6b-f0e3241f1103",
   "metadata": {},
   "source": [
    "## question 1:- write a program to accept persentage from the user and display the grade according to the following criteria."
   ]
  },
  {
   "cell_type": "code",
   "execution_count": 3,
   "id": "24e57a5e-a0e4-4f66-81eb-a6a1722ee95a",
   "metadata": {},
   "outputs": [
    {
     "name": "stdin",
     "output_type": "stream",
     "text": [
      "enter the persentage 78\n"
     ]
    },
    {
     "name": "stdout",
     "output_type": "stream",
     "text": [
      "grade c\n"
     ]
    }
   ],
   "source": [
    "persentage=int(input(\"enter the persentage\"))\n",
    "if persentage>90:\n",
    "    print(\" grade A\")\n",
    "elif persentage>80 and persentage<=90:\n",
    "    print(\"grade B\")\n",
    "elif persentage>=60 and persentage<=80:\n",
    "    print(\"grade c\")\n",
    "else:\n",
    "    print(\"grade D\")"
   ]
  },
  {
   "cell_type": "markdown",
   "id": "37065069-6778-46a1-b5ac-58bb2206e401",
   "metadata": {},
   "source": [
    "## question 2:- write a program to accept the cost price of a bike and display the road tax to be paid according to the following criteria."
   ]
  },
  {
   "cell_type": "code",
   "execution_count": 8,
   "id": "b2a0ab1d-2c94-49fc-b67f-a081f28fe8f3",
   "metadata": {},
   "outputs": [
    {
     "name": "stdin",
     "output_type": "stream",
     "text": [
      "enter the costprice 1000\n"
     ]
    },
    {
     "name": "stdout",
     "output_type": "stream",
     "text": [
      "road tax to be paid is 950.0\n"
     ]
    }
   ],
   "source": [
    "cost_price=int(input(\"enter the costprice\"))\n",
    "if cost_price>100000:\n",
    "    print(\"road tax to be paid is {}\".format(cost_price*0.85))\n",
    "elif cost_price>50000 and cost_price<=100000:\n",
    "    print(\"road tax to be paid is {}\".format(cost_price*0.9))\n",
    "else:\n",
    "    print(\"road tax to be paid is {}\".format(cost_price*0.95))"
   ]
  },
  {
   "cell_type": "markdown",
   "id": "542fcc41-84d1-44d9-8252-ce1a50ecfa76",
   "metadata": {},
   "source": [
    "## question 3:- accept and city from the user and display monuments of that city."
   ]
  },
  {
   "cell_type": "code",
   "execution_count": 1,
   "id": "785e4f6e-f0df-4009-8c24-b17defb38d18",
   "metadata": {},
   "outputs": [
    {
     "name": "stdin",
     "output_type": "stream",
     "text": [
      "enter the city Delhi\n"
     ]
    },
    {
     "name": "stdout",
     "output_type": "stream",
     "text": [
      "monuments is RED FORT\n"
     ]
    }
   ],
   "source": [
    "city=input(\"enter the city\")\n",
    "while(1):\n",
    "    if city==\"Delhi\":\n",
    "        print(\"monuments is RED FORT\")\n",
    "    if city==\"Agra\":\n",
    "        print(\"monuments is TAJ MAHAL\")\n",
    "    if city==\"Jaipur\":\n",
    "        print(\"monuments is JAL MAHAL\")\n",
    "    break"
   ]
  },
  {
   "cell_type": "markdown",
   "id": "8032f2d0-7224-42e7-a287-afeef322b5a1",
   "metadata": {},
   "source": [
    "## question 4:- check how many times a given number can be divided by 3 before it is less then or equal to 10. "
   ]
  },
  {
   "cell_type": "code",
   "execution_count": 1,
   "id": "65397a64-0102-4d78-8f52-9bf76e309421",
   "metadata": {},
   "outputs": [
    {
     "name": "stdin",
     "output_type": "stream",
     "text": [
      "enter the number 12\n"
     ]
    },
    {
     "name": "stdout",
     "output_type": "stream",
     "text": [
      "4 number of times number be divided by 3\n"
     ]
    }
   ],
   "source": [
    "number=int(input(\"enter the number\"))\n",
    "if number>10:\n",
    "    print(\"{} number of times number be divided by 3\".format(number//3))\n",
    "else:\n",
    "    print(\"number is less then or equal to 10\")"
   ]
  },
  {
   "cell_type": "markdown",
   "id": "a1524f0d-7c58-4165-a244-f8e8c76a6dcb",
   "metadata": {},
   "source": [
    "## question 5:- why and when to use while loop in python give a detail description with example."
   ]
  },
  {
   "cell_type": "markdown",
   "id": "cbd87d97-1dac-4ceb-a404-0fd665faddcd",
   "metadata": {},
   "source": [
    "## Ans:- Python While Loop is used to execute a block of statements repeatedly until a given condition is satisfied. And when the condition becomes false, the line immediately after the loop in the program is executed.\n",
    "## While loop falls under the category of indefinite iteration. Indefinite iteration means that the number of times the loop is executed isn’t specified explicitly in advance. \n",
    "## Statements represent all the statements indented by the same number of character spaces after a programming construct are considered to be part of a single block of code. Python uses indentation as its method of grouping statements. When a while loop is executed, expr is first evaluated in a Boolean context and if it is true, the loop body is executed. Then the expr is checked again, if it is still true then the body is executed again and this continues until the expression becomes false.\n",
    "## count = 0\n",
    "while (count < 3):\n",
    "    count = count + 1\n",
    "    print(\"Hello Geek\")"
   ]
  },
  {
   "cell_type": "markdown",
   "id": "5c544c62-8726-45e7-b0d2-88c6ce6ee107",
   "metadata": {},
   "source": [
    "## question 6:- using nested while loop to print three different pattern."
   ]
  },
  {
   "cell_type": "code",
   "execution_count": 7,
   "id": "377ed1f9-4c30-467d-b3c0-b4f45d7c41ac",
   "metadata": {},
   "outputs": [
    {
     "name": "stdin",
     "output_type": "stream",
     "text": [
      "Enter number of rows :  4\n"
     ]
    },
    {
     "name": "stdout",
     "output_type": "stream",
     "text": [
      "* \n",
      "* * \n",
      "* * * \n",
      "* * * * \n"
     ]
    }
   ],
   "source": [
    "n = int(input('Enter number of rows : '))\n",
    "i = 1\n",
    "while i <= n :\n",
    "    j = 1\n",
    "    while j <= i:\n",
    "        print(\"*\", end = \" \")\n",
    "        j += 1\n",
    "    print()\n",
    "    i += 1\n",
    "      "
   ]
  },
  {
   "cell_type": "code",
   "execution_count": 12,
   "id": "c873f2d7-f57d-447c-9277-7ea035af2f98",
   "metadata": {},
   "outputs": [
    {
     "name": "stdin",
     "output_type": "stream",
     "text": [
      "Enter number of rows :  4\n"
     ]
    },
    {
     "name": "stdout",
     "output_type": "stream",
     "text": [
      "* * * * \n",
      "* * * \n",
      "* * \n",
      "* \n"
     ]
    }
   ],
   "source": [
    "n = int(input('Enter number of rows : '))\n",
    "i = 1\n",
    "while i <= n :\n",
    "    j = n\n",
    "    while j >= i:\n",
    "        print(\"*\", end = \" \")\n",
    "        j -= 1\n",
    "    print()\n",
    "    i += 1"
   ]
  },
  {
   "cell_type": "code",
   "execution_count": 13,
   "id": "ab8f8695-8cf7-42ff-aac0-169fcca2611f",
   "metadata": {},
   "outputs": [
    {
     "name": "stdin",
     "output_type": "stream",
     "text": [
      "Enter number of rows :  4\n"
     ]
    },
    {
     "name": "stdout",
     "output_type": "stream",
     "text": [
      "1 \n",
      "3 3 \n",
      "5 5 5 \n",
      "7 7 7 7 \n"
     ]
    }
   ],
   "source": [
    "n = int(input('Enter number of rows : '))\n",
    "i = 1\n",
    "while i <= n:\n",
    "    j = 1\n",
    "    while j <= i:\n",
    "        print((i * 2 - 1), end=\" \")\n",
    "        j = j + 1\n",
    "    i = i + 1\n",
    "    print('')"
   ]
  },
  {
   "cell_type": "markdown",
   "id": "70aab7ac-1891-496b-b064-d5a003957a39",
   "metadata": {},
   "source": [
    "## question 7:- reverse a while loop to display numbers from 10 to 1. "
   ]
  },
  {
   "cell_type": "code",
   "execution_count": 6,
   "id": "36668627-9c8b-491b-a89e-f1d6954dc6be",
   "metadata": {},
   "outputs": [
    {
     "name": "stdout",
     "output_type": "stream",
     "text": [
      "10\n",
      "9\n",
      "8\n",
      "7\n",
      "6\n",
      "5\n",
      "4\n",
      "3\n",
      "2\n",
      "1\n"
     ]
    }
   ],
   "source": [
    "num=10\n",
    "while num>=1:\n",
    "    print(num)\n",
    "    num-=1"
   ]
  },
  {
   "cell_type": "code",
   "execution_count": null,
   "id": "a55212b8-2b1a-4f35-9525-2a037c558ed9",
   "metadata": {},
   "outputs": [],
   "source": []
  }
 ],
 "metadata": {
  "kernelspec": {
   "display_name": "Python 3 (ipykernel)",
   "language": "python",
   "name": "python3"
  },
  "language_info": {
   "codemirror_mode": {
    "name": "ipython",
    "version": 3
   },
   "file_extension": ".py",
   "mimetype": "text/x-python",
   "name": "python",
   "nbconvert_exporter": "python",
   "pygments_lexer": "ipython3",
   "version": "3.10.8"
  }
 },
 "nbformat": 4,
 "nbformat_minor": 5
}
